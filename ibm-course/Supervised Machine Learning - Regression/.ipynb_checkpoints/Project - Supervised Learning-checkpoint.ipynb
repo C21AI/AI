{
 "cells": [
  {
   "cell_type": "markdown",
   "metadata": {},
   "source": [
    "<img src=\"medical.jpg\" style=\"height:10px\">\n",
    "\n",
    "\n",
    " <h1 align=\"center\">Lung Cancer Analysis</h1> "
   ]
  },
  {
   "cell_type": "markdown",
   "metadata": {},
   "source": [
    "_________________________________"
   ]
  },
  {
   "cell_type": "markdown",
   "metadata": {},
   "source": [
    "# Section 1: Data; Description, attributes, EDA, cleaning and engineering\n",
    "\n",
    "1. Section describing data and summary of its attributes\n",
    " + summary of EDA and cleaning + feature engineering \n",
    " ___________\n",
    " \n",
    "### I will be using \"Historic Tour De France Dataset\" found on Kaggle:\n",
    "https://www.kaggle.com/ralle360/historic-tour-de-france-dataset\n",
    "\n",
    "####  Shape of data: The data consists of 2236 rows and 8 columns; This means there is data from 2236 stages, desribed with 8 different attributes, these are: \n",
    "* Stage number\n",
    "* Date of stage\n",
    "* Distance (In KM)\n",
    "* Origin (Which city the stage starts)\n",
    "* Destination (Which city it ends) \n",
    "* Stage type (There are 18 different)\n",
    "* The winner \n",
    "* Winner's origin country\n",
    "\n",
    "\n",
    "#### Missing data: There is no missing data, except in the \"Winner_country\" column, where 52 datapoints are missing\n",
    "\n",
    "#### Data types: Only distance is of float64 datatype, where all the others are object. (For some reason stage and date is also object)\n",
    "\n",
    "#### Data cleaning:\n",
    "* Converted date to datetime64 instead of object\n",
    "* Renaming the rows with missing datapoints. I choose to do this, as it turned out most of the NaN values were due to the stage being of the type \"Team time trial\", meaning there was not a single winner. This was not useful for my main objective, so I simply named them \"Other\"\n",
    "\n",
    "#### Feature engineering:\n",
    "* I needed to somehow encode my categorical features. My main objective is to determine if date, distance and type of stage can predict the winner. Therfore, I removed the other columns to apply my linear regression.\n",
    "* It turned out there are 878 unique values for the winner columns. \n"
   ]
  },
  {
   "cell_type": "code",
   "execution_count": 1,
   "metadata": {
    "scrolled": true
   },
   "outputs": [
    {
     "data": {
      "text/html": [
       "<div>\n",
       "<style scoped>\n",
       "    .dataframe tbody tr th:only-of-type {\n",
       "        vertical-align: middle;\n",
       "    }\n",
       "\n",
       "    .dataframe tbody tr th {\n",
       "        vertical-align: top;\n",
       "    }\n",
       "\n",
       "    .dataframe thead th {\n",
       "        text-align: right;\n",
       "    }\n",
       "</style>\n",
       "<table border=\"1\" class=\"dataframe\">\n",
       "  <thead>\n",
       "    <tr style=\"text-align: right;\">\n",
       "      <th></th>\n",
       "      <th>Stage</th>\n",
       "      <th>Date</th>\n",
       "      <th>Distance</th>\n",
       "      <th>Origin</th>\n",
       "      <th>Destination</th>\n",
       "      <th>Type</th>\n",
       "      <th>Winner</th>\n",
       "      <th>Winner_Country</th>\n",
       "    </tr>\n",
       "  </thead>\n",
       "  <tbody>\n",
       "    <tr>\n",
       "      <td>0</td>\n",
       "      <td>1</td>\n",
       "      <td>2017-07-01</td>\n",
       "      <td>14.0</td>\n",
       "      <td>Düsseldorf</td>\n",
       "      <td>Düsseldorf</td>\n",
       "      <td>Individual time trial</td>\n",
       "      <td>Geraint Thomas</td>\n",
       "      <td>GBR</td>\n",
       "    </tr>\n",
       "    <tr>\n",
       "      <td>1</td>\n",
       "      <td>2</td>\n",
       "      <td>2017-07-02</td>\n",
       "      <td>203.5</td>\n",
       "      <td>Düsseldorf</td>\n",
       "      <td>Liège</td>\n",
       "      <td>Flat stage</td>\n",
       "      <td>Marcel Kittel</td>\n",
       "      <td>GER</td>\n",
       "    </tr>\n",
       "    <tr>\n",
       "      <td>2</td>\n",
       "      <td>3</td>\n",
       "      <td>2017-07-03</td>\n",
       "      <td>212.5</td>\n",
       "      <td>Verviers</td>\n",
       "      <td>Longwy</td>\n",
       "      <td>Medium mountain stage</td>\n",
       "      <td>Peter Sagan</td>\n",
       "      <td>SVK</td>\n",
       "    </tr>\n",
       "    <tr>\n",
       "      <td>3</td>\n",
       "      <td>4</td>\n",
       "      <td>2017-07-04</td>\n",
       "      <td>207.5</td>\n",
       "      <td>Mondorf-les-Bains</td>\n",
       "      <td>Vittel</td>\n",
       "      <td>Flat stage</td>\n",
       "      <td>Arnaud Démare</td>\n",
       "      <td>FRA</td>\n",
       "    </tr>\n",
       "    <tr>\n",
       "      <td>4</td>\n",
       "      <td>5</td>\n",
       "      <td>2017-07-05</td>\n",
       "      <td>160.5</td>\n",
       "      <td>Vittel</td>\n",
       "      <td>La Planche des Belles Filles</td>\n",
       "      <td>Medium mountain stage</td>\n",
       "      <td>Fabio Aru</td>\n",
       "      <td>ITA</td>\n",
       "    </tr>\n",
       "  </tbody>\n",
       "</table>\n",
       "</div>"
      ],
      "text/plain": [
       "  Stage        Date  Distance             Origin  \\\n",
       "0     1  2017-07-01      14.0         Düsseldorf   \n",
       "1     2  2017-07-02     203.5         Düsseldorf   \n",
       "2     3  2017-07-03     212.5           Verviers   \n",
       "3     4  2017-07-04     207.5  Mondorf-les-Bains   \n",
       "4     5  2017-07-05     160.5             Vittel   \n",
       "\n",
       "                    Destination                   Type          Winner  \\\n",
       "0                    Düsseldorf  Individual time trial  Geraint Thomas   \n",
       "1                         Liège             Flat stage   Marcel Kittel   \n",
       "2                        Longwy  Medium mountain stage     Peter Sagan   \n",
       "3                        Vittel             Flat stage   Arnaud Démare   \n",
       "4  La Planche des Belles Filles  Medium mountain stage       Fabio Aru   \n",
       "\n",
       "  Winner_Country  \n",
       "0            GBR  \n",
       "1            GER  \n",
       "2            SVK  \n",
       "3            FRA  \n",
       "4            ITA  "
      ]
     },
     "metadata": {},
     "output_type": "display_data"
    },
    {
     "name": "stdout",
     "output_type": "stream",
     "text": [
      "\n",
      "Rows: 2236\n",
      "Columns: 8\n",
      "\n",
      "All columns:\n",
      "['Stage', 'Date', 'Distance', 'Origin', 'Destination', 'Type', 'Winner', 'Winner_Country']\n",
      "\n",
      "Data types and NaN values:\n",
      "<class 'pandas.core.frame.DataFrame'>\n",
      "RangeIndex: 2236 entries, 0 to 2235\n",
      "Data columns (total 8 columns):\n",
      "Stage             2236 non-null object\n",
      "Date              2236 non-null object\n",
      "Distance          2236 non-null float64\n",
      "Origin            2236 non-null object\n",
      "Destination       2236 non-null object\n",
      "Type              2236 non-null object\n",
      "Winner            2236 non-null object\n",
      "Winner_Country    2184 non-null object\n",
      "dtypes: float64(1), object(7)\n",
      "memory usage: 139.9+ KB\n",
      "None\n"
     ]
    }
   ],
   "source": [
    "# Imports\n",
    "\n",
    "import pandas as pd\n",
    "import numpy as np\n",
    "\n",
    "# EDA\n",
    "\n",
    "data = pd.read_csv(\"stages_TDF.csv\")\n",
    "\n",
    "#Printing out info\n",
    "display(data.head())\n",
    "print(\"\")\n",
    "print(\"Rows:\", data.shape[0])\n",
    "print(\"Columns:\", data.shape[1])\n",
    "print(\"\")\n",
    "print(\"All columns:\")\n",
    "print(data.columns.tolist())\n",
    "print(\"\")\n",
    "print(\"Data types and NaN values:\")\n",
    "print(data.info())"
   ]
  },
  {
   "cell_type": "code",
   "execution_count": 10,
   "metadata": {},
   "outputs": [],
   "source": [
    "# Cleaning\n",
    "LR_data = data.copy()\n",
    "\n",
    "# Remove non-important features \n",
    "LR_data.drop(\"Origin\", inplace=True, axis=1) \n",
    "LR_data.drop(\"Destination\", inplace=True, axis=1) \n",
    "LR_data.drop(\"Winner_Country\", inplace=True, axis=1) \n",
    "LR_data.drop(\"Stage\", inplace=True, axis=1) \n",
    "\n",
    "# To datetime\n",
    "LR_data['Date'] = pd.to_datetime(data['Date'])"
   ]
  },
  {
   "cell_type": "code",
   "execution_count": 13,
   "metadata": {},
   "outputs": [
    {
     "name": "stdout",
     "output_type": "stream",
     "text": [
      "<class 'pandas.core.frame.DataFrame'>\n",
      "RangeIndex: 2236 entries, 0 to 2235\n",
      "Data columns (total 4 columns):\n",
      "Date        2236 non-null datetime64[ns]\n",
      "Distance    2236 non-null float64\n",
      "Type        2236 non-null object\n",
      "Winner      2236 non-null object\n",
      "dtypes: datetime64[ns](1), float64(1), object(2)\n",
      "memory usage: 70.0+ KB\n"
     ]
    }
   ],
   "source": [
    "LR_data.info()"
   ]
  },
  {
   "cell_type": "code",
   "execution_count": null,
   "metadata": {},
   "outputs": [],
   "source": [
    "# Feature engineering "
   ]
  },
  {
   "cell_type": "markdown",
   "metadata": {},
   "source": [
    "_________________________________"
   ]
  },
  {
   "cell_type": "markdown",
   "metadata": {},
   "source": [
    "# Section 2: Main objectives of analysis + Prediction vs interpretability \n",
    " \n",
    "2. Paragraph detailing main objectives of analysis + focusing on prediction vs interpretability \n",
    "\n",
    "__________________\n",
    "\n",
    "My objective is to determine whether some features can predict which athlete will win the stage. Therefore, y is winner"
   ]
  },
  {
   "cell_type": "code",
   "execution_count": 3,
   "metadata": {},
   "outputs": [],
   "source": [
    "y_col = \"Winner\"\n",
    "\n",
    "X = data.drop(y_col, axis=1)\n",
    "y = data[y_col]"
   ]
  },
  {
   "cell_type": "markdown",
   "metadata": {},
   "source": [
    "_________________________________"
   ]
  },
  {
   "cell_type": "markdown",
   "metadata": {},
   "source": [
    "# Section 3: Linear regression \n",
    "\n",
    "3. Section with variation of linear regression model plus which is most suitable \n",
    " + Use a simple, baseline linear regression, then add:\n",
    " + polynomial effects\n",
    " + regularization regression \n",
    " ! All use same train-test split and "
   ]
  },
  {
   "cell_type": "code",
   "execution_count": 6,
   "metadata": {},
   "outputs": [],
   "source": [
    "from sklearn.linear_model import LinearRegression\n",
    "\n",
    "lr = LinearRegression()\n",
    "\n",
    "y_col = \"Winner\"\n",
    "\n",
    "X = data.drop(y_col, axis=1)\n",
    "y = data[y_col]"
   ]
  },
  {
   "cell_type": "markdown",
   "metadata": {},
   "source": [
    "_________________________________"
   ]
  },
  {
   "cell_type": "markdown",
   "metadata": {},
   "source": [
    "# Section 4: Findings \n",
    "\n",
    "4. Section with clear findings related to the main objective \n",
    " + Which regression was the best \n",
    " + Drives of model and insights "
   ]
  },
  {
   "cell_type": "code",
   "execution_count": null,
   "metadata": {},
   "outputs": [],
   "source": []
  },
  {
   "cell_type": "markdown",
   "metadata": {},
   "source": [
    "_________________________________"
   ]
  },
  {
   "cell_type": "markdown",
   "metadata": {},
   "source": [
    "# Section 5: Possible flaws and plan to revisit \n",
    "\n",
    "5. Highlight possible flaws with model and a plan to revisit the analysis with other methods "
   ]
  },
  {
   "cell_type": "code",
   "execution_count": null,
   "metadata": {},
   "outputs": [],
   "source": []
  }
 ],
 "metadata": {
  "kernelspec": {
   "display_name": "Python 3",
   "language": "python",
   "name": "python3"
  },
  "language_info": {
   "codemirror_mode": {
    "name": "ipython",
    "version": 3
   },
   "file_extension": ".py",
   "mimetype": "text/x-python",
   "name": "python",
   "nbconvert_exporter": "python",
   "pygments_lexer": "ipython3",
   "version": "3.7.4"
  }
 },
 "nbformat": 4,
 "nbformat_minor": 2
}
